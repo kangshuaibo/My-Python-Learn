{
 "cells": [
  {
   "cell_type": "code",
   "execution_count": 3,
   "metadata": {},
   "outputs": [
    {
     "name": "stdout",
     "output_type": "stream",
     "text": [
      "    Turnover  Reissued  Dividend  Buy\n",
      "0          0         1         0   NO\n",
      "1          0         0         1  YES\n",
      "2          0         0         3   NO\n",
      "3          0         0         1  YES\n",
      "4          2         1         0  YES\n",
      "5          2         1         1  YES\n",
      "6          2         0         2  YES\n",
      "7          2         0         0   NO\n",
      "8          1         1         1  YES\n",
      "9          1         1         2   NO\n",
      "10         1         1         2   NO\n",
      "11         1         0         0  YES\n",
      "12         1         0         2  YES\n",
      "13         1         0         2  YES\n",
      "预测值: ['NO']\n"
     ]
    }
   ],
   "source": [
    "#coding=utf-8\n",
    "# 导入库\n",
    "import numpy as np  # 导入numpy库\n",
    "import pandas as pd\n",
    "from sklearn import tree    #导入sklearn的决策树模型（包括分类和回归两种）\n",
    "import pydotplus    #画句子的依存结构树\n",
    "import graphviz\n",
    "\n",
    "\n",
    "#画决策树pdf图   （DataFrame）\n",
    "def tree_showpdf(data,labels):\n",
    "    a = data.iloc[:,:-1]    #特征矩阵\n",
    "    b = data.iloc[:,-1]     #目标变量\n",
    "    clf = tree.DecisionTreeClassifier() #分类决策树criterion='gini'\n",
    "    clf.fit(a,b)    #训练\n",
    "\n",
    "    dot_data = tree.export_graphviz(clf, \n",
    "                                    out_file=None,\n",
    "                                     filled=True, \n",
    "                                    rounded=True, \n",
    "                                    feature_names=Buy,\n",
    "                                    class_names = ['YES', 'NO'],\n",
    "                                     special_characters=True) \n",
    "        \n",
    "    graph = pydotplus.graph_from_dot_data(dot_data)\n",
    "    graph.write_pdf(\"tree.pdf\")  #保存树图tree.pdf\n",
    "    return clf\n",
    "\n",
    "def change(data):\n",
    "    names = data.columns[:-1] #前四列索引，DataFrame\n",
    "    for i in names:\n",
    "        col = pd.Categorical(data[i])\n",
    "        data[i] = col.codes\n",
    "    print(data)\n",
    "        \n",
    "def predict(data,clf):\n",
    "    result = clf.predict([[2,0,0]])#手动输入待预测值\n",
    "    print(\"预测值:\",result)\n",
    "\n",
    "    \n",
    "if __name__==\"__main__\":\n",
    "    data = pd.read_csv(\"data.csv\") #读取文件\n",
    "    labelsp = list(data.columns.values)\n",
    "    Buy = labelsp[0:3]#读列索引\n",
    "    change(data)        #转换非大小离散型为数值型\n",
    "    clf = tree_showpdf(data,Buy)  #画树图\n",
    "    predict(data,clf) #预测\n",
    "\n"
   ]
  },
  {
   "cell_type": "code",
   "execution_count": null,
   "metadata": {},
   "outputs": [],
   "source": []
  },
  {
   "cell_type": "code",
   "execution_count": null,
   "metadata": {},
   "outputs": [],
   "source": []
  },
  {
   "cell_type": "code",
   "execution_count": null,
   "metadata": {},
   "outputs": [],
   "source": []
  }
 ],
 "metadata": {
  "kernelspec": {
   "display_name": "Python 3",
   "language": "python",
   "name": "python3"
  },
  "language_info": {
   "codemirror_mode": {
    "name": "ipython",
    "version": 3
   },
   "file_extension": ".py",
   "mimetype": "text/x-python",
   "name": "python",
   "nbconvert_exporter": "python",
   "pygments_lexer": "ipython3",
   "version": "3.7.4"
  }
 },
 "nbformat": 4,
 "nbformat_minor": 2
}
